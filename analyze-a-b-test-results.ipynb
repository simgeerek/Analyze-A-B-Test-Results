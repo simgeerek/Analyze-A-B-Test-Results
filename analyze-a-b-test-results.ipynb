{
 "cells": [
  {
   "cell_type": "markdown",
   "metadata": {},
   "source": [
    "# Analyze A/B Test Results\n",
    "Facebook recently introduced a new bidding type, “**average bidding**”, as an alternative to its exisiting bidding type, called “**maximum bidding**”. One of our clients, **bombabomba.com**, has decided to test this new feature and wants to conduct an **A/B test** to understand **if average bidding brings more conversions than maximum bidding**.\n",
    "\n",
    "In this A/B test, bombabomba.com randomly splits its audience into two equally sized groups, e.g. the test and the control group. **A Facebook ad campaign with “maximum bidding” is served to “control group” and another campaign with “average bidding” is served to the “test group”.**\n",
    "\n",
    "The A/B test has run for 1 month and bombabomba.com now expects you to analyze the results of this A/B test.\n",
    "\n",
    "- Facebook Ad: An advertisement created by a business on Facebook that's served up to Facebook users.\n",
    "- Impressions: The number of times an ad is displayed.\n",
    "- Reach: The number of unique people who saw an ad.\n",
    "- Website Clicks: The number of clicks on ad links directed to Advertiser’s website.\n",
    "- Website Click Through Rate: Number of Website Clicks / Number of Impressions x 100\n",
    "- Cost per Action: Spend / Number of Actions\n",
    "- Action: Can be any conversion event, such as Search, View Content, Add to Cart and Purchase.\n",
    "- Conversion Rate: Number of Actions / Number of Website Clicks x 100\n",
    "\n",
    "The ultimate success metric for bombabomba.com is Number of Purchases.Therefore, we should focus on Purchase metrics for statistical testing.\n"
   ]
  },
  {
   "cell_type": "markdown",
   "metadata": {},
   "source": [
    "## How would we define the hypothesis of this A/B test?\n",
    "\n",
    "- **H0** : There is no statistically significant difference between the Control group that was served  “maximum bidding” campaign and Test group that was served  “average bidding” campaign.\n",
    "\n",
    "- **H1** : There is statistically significant difference between the Control group that was served  “maximum bidding” campaign and Test group that was served  “average bidding” campaign."
   ]
  },
  {
   "cell_type": "code",
   "execution_count": 3,
   "metadata": {},
   "outputs": [],
   "source": [
    "# loading necessary libraries\n",
    "import pandas as pd\n",
    "from scipy.stats import shapiro\n",
    "import scipy.stats as stats"
   ]
  },
  {
   "cell_type": "code",
   "execution_count": 4,
   "metadata": {},
   "outputs": [],
   "source": [
    "# reading the data\n",
    "Control_Group = pd.read_excel(\"ab_testing_data.xlsx\", sheet_name='Control Group')  # maximum bidding\n",
    "Test_Group = pd.read_excel(\"ab_testing_data.xlsx\", sheet_name='Test Group')        # average bidding"
   ]
  },
  {
   "cell_type": "code",
   "execution_count": 5,
   "metadata": {},
   "outputs": [],
   "source": [
    "# assinging name for dataframes\n",
    "Control_Group.name = \"Control_Group\"\n",
    "Test_Group.name = \"Test_Group\";"
   ]
  },
  {
   "cell_type": "code",
   "execution_count": 6,
   "metadata": {},
   "outputs": [],
   "source": [
    "# Analyze the dataframes \n",
    "def analyze_df (df):\n",
    "    print(\"Dataframe Name : %s\" % df.name,\"\\n\") # dataframe name\n",
    "    print(\"Shape of dataframe: {0}\".format(df.shape), \"\\n\") # shape of dataframe\n",
    "    print(\"There are {0} observations and {1} features\".format(len(df),len(df.columns)),\"\\n\") # number of observations and features\n",
    "    print(df.head(),\"\\n\") # first 5 observation\n",
    "    for col in df.columns:\n",
    "        print(\" Number of null value in the {0} column: {1}\".format(col,df[col].isnull().sum())) # is there a null value in any columns\n",
    "    print(\"\\n\",\"Website Click Through Rate: %.4f\" % (df[\"Click\"].sum()/df[\"Impression\"].sum()*100),\"%\",\"\\n\") # rate of website click\n",
    "    print(df.describe().T) # for observe the outliers"
   ]
  },
  {
   "cell_type": "code",
   "execution_count": 7,
   "metadata": {},
   "outputs": [
    {
     "name": "stdout",
     "output_type": "stream",
     "text": [
      "Dataframe Name : Control_Group \n",
      "\n",
      "Shape of dataframe: (40, 4) \n",
      "\n",
      "There are 40 observations and 4 features \n",
      "\n",
      "      Impression        Click    Purchase      Earning\n",
      "0   82529.459271  6090.077317  665.211255  2311.277143\n",
      "1   98050.451926  3382.861786  315.084895  1742.806855\n",
      "2   82696.023549  4167.965750  458.083738  1797.827447\n",
      "3  109914.400398  4910.882240  487.090773  1696.229178\n",
      "4  108457.762630  5987.655811  441.034050  1543.720179 \n",
      "\n",
      " Number of null value in the Impression column: 0\n",
      " Number of null value in the Click column: 0\n",
      " Number of null value in the Purchase column: 0\n",
      " Number of null value in the Earning column: 0\n",
      "\n",
      " Website Click Through Rate: 5.0148 % \n",
      "\n",
      "            count           mean           std           min           25%  \\\n",
      "Impression   40.0  101711.449068  20302.157862  45475.942965  85726.690349   \n",
      "Click        40.0    5100.657373   1329.985498   2189.753157   4124.304129   \n",
      "Purchase     40.0     550.894059    134.108201    267.028943    470.095533   \n",
      "Earning      40.0    1908.568300    302.917783   1253.989525   1685.847205   \n",
      "\n",
      "                     50%            75%            max  \n",
      "Impression  99790.701078  115212.816543  147539.336329  \n",
      "Click        5001.220602    5923.803596    7959.125069  \n",
      "Purchase      531.206307     637.957088     801.795020  \n",
      "Earning      1975.160522    2119.802784    2497.295218  \n"
     ]
    }
   ],
   "source": [
    "#analyze Control Group\n",
    "analyze_df (Control_Group);"
   ]
  },
  {
   "cell_type": "code",
   "execution_count": 8,
   "metadata": {},
   "outputs": [
    {
     "name": "stdout",
     "output_type": "stream",
     "text": [
      "Dataframe Name : Test_Group \n",
      "\n",
      "Shape of dataframe: (40, 4) \n",
      "\n",
      "There are 40 observations and 4 features \n",
      "\n",
      "      Impression        Click    Purchase      Earning\n",
      "0  120103.503796  3216.547958  702.160346  1939.611243\n",
      "1  134775.943363  3635.082422  834.054286  2929.405820\n",
      "2  107806.620788  3057.143560  422.934258  2526.244877\n",
      "3  116445.275526  4650.473911  429.033535  2281.428574\n",
      "4  145082.516838  5201.387724  749.860442  2781.697521 \n",
      "\n",
      " Number of null value in the Impression column: 0\n",
      " Number of null value in the Click column: 0\n",
      " Number of null value in the Purchase column: 0\n",
      " Number of null value in the Earning column: 0\n",
      "\n",
      " Website Click Through Rate: 3.2922 % \n",
      "\n",
      "            count           mean           std           min            25%  \\\n",
      "Impression   40.0  120512.411758  18807.448712  79033.834921  112691.970770   \n",
      "Click        40.0    3967.549761    923.095073   1836.629861    3376.819024   \n",
      "Purchase     40.0     582.106097    161.152513    311.629515     444.626828   \n",
      "Earning      40.0    2514.890733    282.730852   1939.611243    2280.537426   \n",
      "\n",
      "                      50%            75%            max  \n",
      "Impression  119291.300775  132050.578933  158605.920483  \n",
      "Click         3931.359804    4660.497911    6019.695079  \n",
      "Purchase       551.355732     699.862360     889.910460  \n",
      "Earning       2544.666107    2761.545405    3171.489708  \n"
     ]
    }
   ],
   "source": [
    "# analyze Test Group\n",
    "analyze_df (Test_Group)"
   ]
  },
  {
   "cell_type": "code",
   "execution_count": 9,
   "metadata": {},
   "outputs": [],
   "source": [
    "# The ultimate success metric for bombabomba.com is Number of Purchases.\n",
    "# Therefore, we should focus on Purchase metrics for statistical testing.\n",
    "A = pd.DataFrame(Control_Group[\"Purchase\"])\n",
    "B = pd.DataFrame(Test_Group[\"Purchase\"])"
   ]
  },
  {
   "cell_type": "code",
   "execution_count": 10,
   "metadata": {},
   "outputs": [
    {
     "data": {
      "text/html": [
       "<div>\n",
       "<style scoped>\n",
       "    .dataframe tbody tr th:only-of-type {\n",
       "        vertical-align: middle;\n",
       "    }\n",
       "\n",
       "    .dataframe tbody tr th {\n",
       "        vertical-align: top;\n",
       "    }\n",
       "\n",
       "    .dataframe thead th {\n",
       "        text-align: right;\n",
       "    }\n",
       "</style>\n",
       "<table border=\"1\" class=\"dataframe\">\n",
       "  <thead>\n",
       "    <tr style=\"text-align: right;\">\n",
       "      <th></th>\n",
       "      <th>A</th>\n",
       "      <th>B</th>\n",
       "    </tr>\n",
       "  </thead>\n",
       "  <tbody>\n",
       "    <tr>\n",
       "      <th>0</th>\n",
       "      <td>665.211255</td>\n",
       "      <td>702.160346</td>\n",
       "    </tr>\n",
       "    <tr>\n",
       "      <th>1</th>\n",
       "      <td>315.084895</td>\n",
       "      <td>834.054286</td>\n",
       "    </tr>\n",
       "    <tr>\n",
       "      <th>2</th>\n",
       "      <td>458.083738</td>\n",
       "      <td>422.934258</td>\n",
       "    </tr>\n",
       "    <tr>\n",
       "      <th>3</th>\n",
       "      <td>487.090773</td>\n",
       "      <td>429.033535</td>\n",
       "    </tr>\n",
       "    <tr>\n",
       "      <th>4</th>\n",
       "      <td>441.034050</td>\n",
       "      <td>749.860442</td>\n",
       "    </tr>\n",
       "  </tbody>\n",
       "</table>\n",
       "</div>"
      ],
      "text/plain": [
       "            A           B\n",
       "0  665.211255  702.160346\n",
       "1  315.084895  834.054286\n",
       "2  458.083738  422.934258\n",
       "3  487.090773  429.033535\n",
       "4  441.034050  749.860442"
      ]
     },
     "execution_count": 10,
     "metadata": {},
     "output_type": "execute_result"
    }
   ],
   "source": [
    "# Combine the test and control group\n",
    "AB = pd.concat([A,B],axis=1)\n",
    "AB.columns=[\"A\",\"B\"]\n",
    "AB.head()"
   ]
  },
  {
   "cell_type": "code",
   "execution_count": 11,
   "metadata": {},
   "outputs": [
    {
     "name": "stdout",
     "output_type": "stream",
     "text": [
      " Mean of purchase of control group: 550.894 \n",
      " Mean of purchase of test group: 582.106\n"
     ]
    }
   ],
   "source": [
    "print(\" Mean of purchase of control group: %.3f\"%AB.A.mean(),\"\\n\",\n",
    "      \"Mean of purchase of test group: %.3f\"%AB.B.mean())"
   ]
  },
  {
   "cell_type": "markdown",
   "metadata": {},
   "source": [
    "When we look at the purchase average of the two groups, we can observe that the test group, the average bidding campaign, is better. But this observation is not a statistically significant results."
   ]
  },
  {
   "cell_type": "markdown",
   "metadata": {},
   "source": [
    "# Can we conclude statistically significant results?\n",
    "## Indepented Two Sample T-Test\n",
    "\n",
    "The Independent Samples t Test compares the means of two independent groups in order to determine whether there is statistical evidence that the associated population means are significantly different.\n",
    " ## Requirements\n",
    "- **Normal distribution**: Non-normal population distributions, especially those that are thick-tailed or heavily skewed, considerably reduce the power of the test\n",
    "- **Homogeneity of variances** : When this assumption is violated and the sample sizes for each group differ, the p value is not trustworthy.\n",
    "\n",
    "## Hypotheses\n",
    "The **null hypothesis (H0)** and **alternative hypothesis (H1)** of the Independent Samples t Test can be expressed in two different but equivalent ways:\n",
    "- H0: µ1 = µ2 (the two population means are equal)\n",
    "- H1: µ1 ≠ µ2 (the two population means are not equal)"
   ]
  },
  {
   "cell_type": "markdown",
   "metadata": {},
   "source": [
    " ### The Shapiro-Wilks Test for Normality \n",
    "\n",
    "- H0: There is no statistically significant difference between sample distribution and theoretical normal distribution\n",
    "- H1: There is statistically significant difference between sample distribution and theoretical normal distribution\n",
    "\n",
    "The test rejects the hypothesis of normality when the p-value is less than or equal to 0.05. Failing the normality test allows you to state with 95% confidence the data does not fit the normal distribution.\n",
    "\n",
    "* p-value < 0.05 (H0 rejected)\n",
    "* p-value > 0.05 (H0 not rejected)"
   ]
  },
  {
   "cell_type": "code",
   "execution_count": 12,
   "metadata": {},
   "outputs": [
    {
     "name": "stdout",
     "output_type": "stream",
     "text": [
      "Test statistic = 0.9773, p-Value = 0.5891\n"
     ]
    }
   ],
   "source": [
    "# Shapiro-Wilks Test  for Group A\n",
    "test_statistic , pvalue = shapiro(AB.A)\n",
    "print('Test statistic = %.4f, p-Value = %.4f' % (test_statistic, pvalue))"
   ]
  },
  {
   "cell_type": "code",
   "execution_count": 13,
   "metadata": {},
   "outputs": [
    {
     "data": {
      "text/plain": [
       "False"
      ]
     },
     "execution_count": 13,
     "metadata": {},
     "output_type": "execute_result"
    }
   ],
   "source": [
    "#p-value greater then 0.05 so H0 is not rejected for Group A.\n",
    "pvalue < 0.05"
   ]
  },
  {
   "cell_type": "code",
   "execution_count": 14,
   "metadata": {},
   "outputs": [
    {
     "name": "stdout",
     "output_type": "stream",
     "text": [
      "Test statistic = 0.9589, p-Value = 0.1541\n"
     ]
    }
   ],
   "source": [
    "# Shapiro-Wilks Test  for Group B\n",
    "test_statistic , pvalue = shapiro(AB.B)\n",
    "print('Test statistic = %.4f, p-Value = %.4f' % (test_statistic, pvalue))"
   ]
  },
  {
   "cell_type": "code",
   "execution_count": 15,
   "metadata": {},
   "outputs": [
    {
     "data": {
      "text/plain": [
       "False"
      ]
     },
     "execution_count": 15,
     "metadata": {},
     "output_type": "execute_result"
    }
   ],
   "source": [
    "#p-value greater then 0.05 so H0 is not rejected for Group B.\n",
    "pvalue < 0.05"
   ]
  },
  {
   "cell_type": "markdown",
   "metadata": {},
   "source": [
    "There is **no statistically significant difference** between sample distribution and theoretical normal distribution in groups A and B."
   ]
  },
  {
   "cell_type": "markdown",
   "metadata": {},
   "source": [
    "### Levene’s Test for Homogeneity of variances\n",
    "Levene’s test is an equal variance test. It can be used to check if our data sets fulfill the homogeneity of variance assumption before we perform the t-test or Analysis of Variance \n",
    "\n",
    "- H0: the compared groups have equal variance.\n",
    "- H1: the compared groups do not have equal variance."
   ]
  },
  {
   "cell_type": "code",
   "execution_count": 16,
   "metadata": {},
   "outputs": [
    {
     "name": "stdout",
     "output_type": "stream",
     "text": [
      "Test statistic = 2.6393, p-Value = 0.1083\n"
     ]
    }
   ],
   "source": [
    "test_statistic,pvalue = stats.levene(AB.A,AB.B)\n",
    "print('Test statistic = %.4f, p-Value = %.4f' % (test_statistic, pvalue))"
   ]
  },
  {
   "cell_type": "code",
   "execution_count": 17,
   "metadata": {},
   "outputs": [
    {
     "data": {
      "text/plain": [
       "False"
      ]
     },
     "execution_count": 17,
     "metadata": {},
     "output_type": "execute_result"
    }
   ],
   "source": [
    "# p-value greater then 0.05 so H0 is not rejected.\n",
    "pvalue < 0.05"
   ]
  },
  {
   "cell_type": "markdown",
   "metadata": {},
   "source": [
    "The compared groups have equal variance. \n",
    "\n",
    "The assumptions of normality distribution and variance homogeneity were tested.Two assumptions are provided, we can now test for our main hypothesis.\n",
    "\n",
    "- **H0** : There is no statistically significant difference between the Control group that was served  “maximum bidding” campaign and Test group that was served  “average bidding” campaign.\n",
    "\n",
    "- **H1** : There is statistically significant difference between the Control group that was served  “maximum bidding” campaign and Test group that was served  “average bidding” campaign."
   ]
  },
  {
   "cell_type": "code",
   "execution_count": 18,
   "metadata": {},
   "outputs": [
    {
     "name": "stdout",
     "output_type": "stream",
     "text": [
      "tvalue = -0.9416, pvalue = 0.3493\n"
     ]
    }
   ],
   "source": [
    "tvalue, pvalue = stats.ttest_ind(AB[\"A\"], AB[\"B\"], equal_var=True)\n",
    "print('tvalue = %.4f, pvalue = %.4f' % (tvalue, pvalue))"
   ]
  },
  {
   "cell_type": "code",
   "execution_count": 19,
   "metadata": {},
   "outputs": [
    {
     "data": {
      "text/plain": [
       "False"
      ]
     },
     "execution_count": 19,
     "metadata": {},
     "output_type": "execute_result"
    }
   ],
   "source": [
    "# p-value greater then 0.05 so H0 is not rejected.\n",
    "pvalue < 0.05"
   ]
  },
  {
   "cell_type": "markdown",
   "metadata": {},
   "source": [
    "P-value greater then 0.05 so H0 is not rejected.So, There is no statistically significant difference between the Control group that was served “maximum bidding” campaign and Test group that was served “average bidding” campaign."
   ]
  },
  {
   "cell_type": "markdown",
   "metadata": {},
   "source": [
    "## Which statistical test did we use, and why?\n",
    "We used independent t-test because we want to determine if there is a significant difference between the means of two indepented groups, which may be related in certain features."
   ]
  },
  {
   "cell_type": "markdown",
   "metadata": {},
   "source": [
    "## What would be our recommendation to client?\n",
    "There is no statistically significant difference between the Control group that was served “maximum bidding” campaign and Test group that was served “average bidding” campaign. For this reason, we can recommend continuing with the maximum bidding campaign currently used.\n"
   ]
  },
  {
   "cell_type": "markdown",
   "metadata": {},
   "source": [
    "# Conclusion\n",
    "- Hypothesis established and interpreted\n",
    "- The data was analyzed, outliers were observed\n",
    "- It was checked whether the assumptions were met for the statistical test to be applied\n",
    "- The assumptions were observed and tested\n",
    "- Commented based on -p-value\n",
    "- Suggestion offered to customer"
   ]
  }
 ],
 "metadata": {
  "kernelspec": {
   "display_name": "Python 3",
   "language": "python",
   "name": "python3"
  },
  "language_info": {
   "codemirror_mode": {
    "name": "ipython",
    "version": 3
   },
   "file_extension": ".py",
   "mimetype": "text/x-python",
   "name": "python",
   "nbconvert_exporter": "python",
   "pygments_lexer": "ipython3",
   "version": "3.7.4"
  }
 },
 "nbformat": 4,
 "nbformat_minor": 4
}
